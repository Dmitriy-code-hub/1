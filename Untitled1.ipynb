{
  "cells": [
    {
      "cell_type": "markdown",
      "metadata": {
        "id": "view-in-github",
        "colab_type": "text"
      },
      "source": [
        "<a href=\"https://colab.research.google.com/github/Dmitriy-code-hub/1/blob/main/Untitled1.ipynb\" target=\"_parent\"><img src=\"https://colab.research.google.com/assets/colab-badge.svg\" alt=\"Open In Colab\"/></a>"
      ]
    },
    {
      "cell_type": "markdown",
      "metadata": {
        "id": "ml1y8kLe6O08"
      },
      "source": [
        "# Start"
      ]
    },
    {
      "cell_type": "code",
      "execution_count": null,
      "metadata": {
        "id": "bNj9wzNzreIv"
      },
      "outputs": [],
      "source": [
        "# ! pip install tensorflow\n",
        "# ! pip install keras\n",
        "# ! pip install keras.model\n",
        "# !pip install pycaret\n",
        "# !pip install markupsafe == 2.0.1\n",
        "# !pip install jinjia2"
      ]
    },
    {
      "cell_type": "code",
      "execution_count": null,
      "metadata": {
        "colab": {
          "base_uri": "https://localhost:8080/"
        },
        "id": "c2nxUJdBxrNr",
        "outputId": "7dbc9933-a838-4c0f-9487-2ea7e5f4f8b5"
      },
      "outputs": [
        {
          "output_type": "stream",
          "name": "stdout",
          "text": [
            "Looking in indexes: https://pypi.org/simple, https://us-python.pkg.dev/colab-wheels/public/simple/\n",
            "Requirement already satisfied: pandas in /usr/local/lib/python3.8/dist-packages (1.3.5)\n",
            "Collecting pandas\n",
            "  Downloading pandas-1.5.3-cp38-cp38-manylinux_2_17_x86_64.manylinux2014_x86_64.whl (12.2 MB)\n",
            "\u001b[2K     \u001b[90m━━━━━━━━━━━━━━━━━━━━━━━━━━━━━━━━━━━━━━━━\u001b[0m \u001b[32m12.2/12.2 MB\u001b[0m \u001b[31m45.2 MB/s\u001b[0m eta \u001b[36m0:00:00\u001b[0m\n",
            "\u001b[?25hRequirement already satisfied: python-dateutil>=2.8.1 in /usr/local/lib/python3.8/dist-packages (from pandas) (2.8.2)\n",
            "Requirement already satisfied: pytz>=2020.1 in /usr/local/lib/python3.8/dist-packages (from pandas) (2022.7.1)\n",
            "Requirement already satisfied: numpy>=1.20.3 in /usr/local/lib/python3.8/dist-packages (from pandas) (1.21.6)\n",
            "Requirement already satisfied: six>=1.5 in /usr/local/lib/python3.8/dist-packages (from python-dateutil>=2.8.1->pandas) (1.15.0)\n",
            "Installing collected packages: pandas\n",
            "  Attempting uninstall: pandas\n",
            "    Found existing installation: pandas 1.3.5\n",
            "    Uninstalling pandas-1.3.5:\n",
            "      Successfully uninstalled pandas-1.3.5\n",
            "Successfully installed pandas-1.5.3\n",
            "Looking in indexes: https://pypi.org/simple, https://us-python.pkg.dev/colab-wheels/public/simple/\n",
            "Requirement already satisfied: pandas-datareader in /usr/local/lib/python3.8/dist-packages (0.9.0)\n",
            "Collecting pandas-datareader\n",
            "  Downloading pandas_datareader-0.10.0-py3-none-any.whl (109 kB)\n",
            "\u001b[2K     \u001b[90m━━━━━━━━━━━━━━━━━━━━━━━━━━━━━━━━━━━━━━━\u001b[0m \u001b[32m109.5/109.5 KB\u001b[0m \u001b[31m3.2 MB/s\u001b[0m eta \u001b[36m0:00:00\u001b[0m\n",
            "\u001b[?25hRequirement already satisfied: pandas>=0.23 in /usr/local/lib/python3.8/dist-packages (from pandas-datareader) (1.5.3)\n",
            "Requirement already satisfied: lxml in /usr/local/lib/python3.8/dist-packages (from pandas-datareader) (4.9.2)\n",
            "Requirement already satisfied: requests>=2.19.0 in /usr/local/lib/python3.8/dist-packages (from pandas-datareader) (2.25.1)\n",
            "Requirement already satisfied: python-dateutil>=2.8.1 in /usr/local/lib/python3.8/dist-packages (from pandas>=0.23->pandas-datareader) (2.8.2)\n",
            "Requirement already satisfied: numpy>=1.20.3 in /usr/local/lib/python3.8/dist-packages (from pandas>=0.23->pandas-datareader) (1.21.6)\n",
            "Requirement already satisfied: pytz>=2020.1 in /usr/local/lib/python3.8/dist-packages (from pandas>=0.23->pandas-datareader) (2022.7.1)\n",
            "Requirement already satisfied: idna<3,>=2.5 in /usr/local/lib/python3.8/dist-packages (from requests>=2.19.0->pandas-datareader) (2.10)\n",
            "Requirement already satisfied: urllib3<1.27,>=1.21.1 in /usr/local/lib/python3.8/dist-packages (from requests>=2.19.0->pandas-datareader) (1.24.3)\n",
            "Requirement already satisfied: certifi>=2017.4.17 in /usr/local/lib/python3.8/dist-packages (from requests>=2.19.0->pandas-datareader) (2022.12.7)\n",
            "Requirement already satisfied: chardet<5,>=3.0.2 in /usr/local/lib/python3.8/dist-packages (from requests>=2.19.0->pandas-datareader) (4.0.0)\n",
            "Requirement already satisfied: six>=1.5 in /usr/local/lib/python3.8/dist-packages (from python-dateutil>=2.8.1->pandas>=0.23->pandas-datareader) (1.15.0)\n",
            "Installing collected packages: pandas-datareader\n",
            "  Attempting uninstall: pandas-datareader\n",
            "    Found existing installation: pandas-datareader 0.9.0\n",
            "    Uninstalling pandas-datareader-0.9.0:\n",
            "      Successfully uninstalled pandas-datareader-0.9.0\n",
            "Successfully installed pandas-datareader-0.10.0\n"
          ]
        }
      ],
      "source": [
        "!pip install --upgrade pandas\n",
        "!pip install --upgrade pandas-datareader"
      ]
    },
    {
      "cell_type": "code",
      "execution_count": null,
      "metadata": {
        "colab": {
          "base_uri": "https://localhost:8080/",
          "height": 35
        },
        "id": "XEYmijBsyIko",
        "outputId": "f7d10577-9e66-44c7-eb10-632252062022"
      },
      "outputs": [
        {
          "output_type": "execute_result",
          "data": {
            "text/plain": [
              "'0.10.0'"
            ],
            "application/vnd.google.colaboratory.intrinsic+json": {
              "type": "string"
            }
          },
          "metadata": {},
          "execution_count": 3
        }
      ],
      "source": [
        "import pandas_datareader\n",
        "pandas_datareader.__version__  # Should show 0.10.0"
      ]
    },
    {
      "cell_type": "code",
      "execution_count": null,
      "metadata": {
        "colab": {
          "base_uri": "https://localhost:8080/",
          "height": 972
        },
        "id": "-xeYuc04zaAH",
        "outputId": "cbdf0581-c1ab-4929-e68a-000d7a57e3c2"
      },
      "outputs": [
        {
          "output_type": "stream",
          "name": "stdout",
          "text": [
            "Looking in indexes: https://pypi.org/simple, https://us-python.pkg.dev/colab-wheels/public/simple/\n",
            "Collecting yfinance\n",
            "  Downloading yfinance-0.2.12-py2.py3-none-any.whl (59 kB)\n",
            "\u001b[2K     \u001b[90m━━━━━━━━━━━━━━━━━━━━━━━━━━━━━━━━━━━━━━━━\u001b[0m \u001b[32m59.2/59.2 KB\u001b[0m \u001b[31m3.4 MB/s\u001b[0m eta \u001b[36m0:00:00\u001b[0m\n",
            "\u001b[?25hRequirement already satisfied: numpy>=1.16.5 in /usr/local/lib/python3.8/dist-packages (from yfinance) (1.21.6)\n",
            "Requirement already satisfied: pandas>=1.3.0 in /usr/local/lib/python3.8/dist-packages (from yfinance) (1.5.3)\n",
            "Collecting cryptography>=3.3.2\n",
            "  Downloading cryptography-39.0.1-cp36-abi3-manylinux_2_28_x86_64.whl (4.2 MB)\n",
            "\u001b[2K     \u001b[90m━━━━━━━━━━━━━━━━━━━━━━━━━━━━━━━━━━━━━━━━\u001b[0m \u001b[32m4.2/4.2 MB\u001b[0m \u001b[31m34.8 MB/s\u001b[0m eta \u001b[36m0:00:00\u001b[0m\n",
            "\u001b[?25hRequirement already satisfied: multitasking>=0.0.7 in /usr/local/lib/python3.8/dist-packages (from yfinance) (0.0.11)\n",
            "Collecting requests>=2.26\n",
            "  Downloading requests-2.28.2-py3-none-any.whl (62 kB)\n",
            "\u001b[2K     \u001b[90m━━━━━━━━━━━━━━━━━━━━━━━━━━━━━━━━━━━━━━━━\u001b[0m \u001b[32m62.8/62.8 KB\u001b[0m \u001b[31m5.9 MB/s\u001b[0m eta \u001b[36m0:00:00\u001b[0m\n",
            "\u001b[?25hRequirement already satisfied: appdirs>=1.4.4 in /usr/local/lib/python3.8/dist-packages (from yfinance) (1.4.4)\n",
            "Collecting beautifulsoup4>=4.11.1\n",
            "  Downloading beautifulsoup4-4.11.2-py3-none-any.whl (129 kB)\n",
            "\u001b[2K     \u001b[90m━━━━━━━━━━━━━━━━━━━━━━━━━━━━━━━━━━━━━━\u001b[0m \u001b[32m129.4/129.4 KB\u001b[0m \u001b[31m11.7 MB/s\u001b[0m eta \u001b[36m0:00:00\u001b[0m\n",
            "\u001b[?25hCollecting frozendict>=2.3.4\n",
            "  Downloading frozendict-2.3.5-cp38-cp38-manylinux_2_17_x86_64.manylinux2014_x86_64.whl (111 kB)\n",
            "\u001b[2K     \u001b[90m━━━━━━━━━━━━━━━━━━━━━━━━━━━━━━━━━━━━━━\u001b[0m \u001b[32m111.2/111.2 KB\u001b[0m \u001b[31m11.3 MB/s\u001b[0m eta \u001b[36m0:00:00\u001b[0m\n",
            "\u001b[?25hRequirement already satisfied: lxml>=4.9.1 in /usr/local/lib/python3.8/dist-packages (from yfinance) (4.9.2)\n",
            "Requirement already satisfied: pytz>=2022.5 in /usr/local/lib/python3.8/dist-packages (from yfinance) (2022.7.1)\n",
            "Collecting html5lib>=1.1\n",
            "  Downloading html5lib-1.1-py2.py3-none-any.whl (112 kB)\n",
            "\u001b[2K     \u001b[90m━━━━━━━━━━━━━━━━━━━━━━━━━━━━━━━━━━━━━━\u001b[0m \u001b[32m112.2/112.2 KB\u001b[0m \u001b[31m11.5 MB/s\u001b[0m eta \u001b[36m0:00:00\u001b[0m\n",
            "\u001b[?25hCollecting soupsieve>1.2\n",
            "  Downloading soupsieve-2.4-py3-none-any.whl (37 kB)\n",
            "Requirement already satisfied: cffi>=1.12 in /usr/local/lib/python3.8/dist-packages (from cryptography>=3.3.2->yfinance) (1.15.1)\n",
            "Requirement already satisfied: webencodings in /usr/local/lib/python3.8/dist-packages (from html5lib>=1.1->yfinance) (0.5.1)\n",
            "Requirement already satisfied: six>=1.9 in /usr/local/lib/python3.8/dist-packages (from html5lib>=1.1->yfinance) (1.15.0)\n",
            "Requirement already satisfied: python-dateutil>=2.8.1 in /usr/local/lib/python3.8/dist-packages (from pandas>=1.3.0->yfinance) (2.8.2)\n",
            "Requirement already satisfied: urllib3<1.27,>=1.21.1 in /usr/local/lib/python3.8/dist-packages (from requests>=2.26->yfinance) (1.24.3)\n",
            "Requirement already satisfied: certifi>=2017.4.17 in /usr/local/lib/python3.8/dist-packages (from requests>=2.26->yfinance) (2022.12.7)\n",
            "Requirement already satisfied: charset-normalizer<4,>=2 in /usr/local/lib/python3.8/dist-packages (from requests>=2.26->yfinance) (3.0.1)\n",
            "Requirement already satisfied: idna<4,>=2.5 in /usr/local/lib/python3.8/dist-packages (from requests>=2.26->yfinance) (2.10)\n",
            "Requirement already satisfied: pycparser in /usr/local/lib/python3.8/dist-packages (from cffi>=1.12->cryptography>=3.3.2->yfinance) (2.21)\n",
            "Installing collected packages: soupsieve, requests, html5lib, frozendict, cryptography, beautifulsoup4, yfinance\n",
            "  Attempting uninstall: requests\n",
            "    Found existing installation: requests 2.25.1\n",
            "    Uninstalling requests-2.25.1:\n",
            "      Successfully uninstalled requests-2.25.1\n",
            "  Attempting uninstall: html5lib\n",
            "    Found existing installation: html5lib 1.0.1\n",
            "    Uninstalling html5lib-1.0.1:\n",
            "      Successfully uninstalled html5lib-1.0.1\n",
            "  Attempting uninstall: beautifulsoup4\n",
            "    Found existing installation: beautifulsoup4 4.6.3\n",
            "    Uninstalling beautifulsoup4-4.6.3:\n",
            "      Successfully uninstalled beautifulsoup4-4.6.3\n",
            "Successfully installed beautifulsoup4-4.11.2 cryptography-39.0.1 frozendict-2.3.5 html5lib-1.1 requests-2.28.2 soupsieve-2.4 yfinance-0.2.12\n"
          ]
        },
        {
          "output_type": "display_data",
          "data": {
            "application/vnd.colab-display-data+json": {
              "pip_warning": {
                "packages": [
                  "requests"
                ]
              }
            }
          },
          "metadata": {}
        }
      ],
      "source": [
        "!pip install yfinance"
      ]
    },
    {
      "cell_type": "code",
      "execution_count": null,
      "metadata": {
        "colab": {
          "base_uri": "https://localhost:8080/",
          "height": 472
        },
        "id": "XF6D3dv1s7cY",
        "outputId": "00a15460-47fd-4bcd-bff4-a6f634911a0e"
      },
      "outputs": [
        {
          "output_type": "stream",
          "name": "stdout",
          "text": [
            "\r[*********************100%***********************]  1 of 1 completed\n"
          ]
        },
        {
          "output_type": "execute_result",
          "data": {
            "text/plain": [
              "                  Open        High         Low       Close   Adj Close  \\\n",
              "Date                                                                     \n",
              "1980-12-12    0.128348    0.128906    0.128348    0.128348    0.099722   \n",
              "1980-12-15    0.122210    0.122210    0.121652    0.121652    0.094519   \n",
              "1980-12-16    0.113281    0.113281    0.112723    0.112723    0.087582   \n",
              "1980-12-17    0.115513    0.116071    0.115513    0.115513    0.089749   \n",
              "1980-12-18    0.118862    0.119420    0.118862    0.118862    0.092351   \n",
              "...                ...         ...         ...         ...         ...   \n",
              "2022-12-12  142.699997  144.500000  141.059998  144.490005  144.269730   \n",
              "2022-12-13  149.500000  149.970001  144.240005  145.470001  145.248230   \n",
              "2022-12-14  145.350006  146.660004  141.160004  143.210007  142.991684   \n",
              "2022-12-15  141.110001  141.800003  136.029999  136.500000  136.291901   \n",
              "2022-12-16  136.690002  137.649994  133.729996  134.509995  134.304932   \n",
              "\n",
              "               Volume  \n",
              "Date                   \n",
              "1980-12-12  469033600  \n",
              "1980-12-15  175884800  \n",
              "1980-12-16  105728000  \n",
              "1980-12-17   86441600  \n",
              "1980-12-18   73449600  \n",
              "...               ...  \n",
              "2022-12-12   70462700  \n",
              "2022-12-13   93886200  \n",
              "2022-12-14   82291200  \n",
              "2022-12-15   98931900  \n",
              "2022-12-16  160156900  \n",
              "\n",
              "[10594 rows x 6 columns]"
            ],
            "text/html": [
              "\n",
              "  <div id=\"df-6f309101-b53e-4701-a008-cab6f1862656\">\n",
              "    <div class=\"colab-df-container\">\n",
              "      <div>\n",
              "<style scoped>\n",
              "    .dataframe tbody tr th:only-of-type {\n",
              "        vertical-align: middle;\n",
              "    }\n",
              "\n",
              "    .dataframe tbody tr th {\n",
              "        vertical-align: top;\n",
              "    }\n",
              "\n",
              "    .dataframe thead th {\n",
              "        text-align: right;\n",
              "    }\n",
              "</style>\n",
              "<table border=\"1\" class=\"dataframe\">\n",
              "  <thead>\n",
              "    <tr style=\"text-align: right;\">\n",
              "      <th></th>\n",
              "      <th>Open</th>\n",
              "      <th>High</th>\n",
              "      <th>Low</th>\n",
              "      <th>Close</th>\n",
              "      <th>Adj Close</th>\n",
              "      <th>Volume</th>\n",
              "    </tr>\n",
              "    <tr>\n",
              "      <th>Date</th>\n",
              "      <th></th>\n",
              "      <th></th>\n",
              "      <th></th>\n",
              "      <th></th>\n",
              "      <th></th>\n",
              "      <th></th>\n",
              "    </tr>\n",
              "  </thead>\n",
              "  <tbody>\n",
              "    <tr>\n",
              "      <th>1980-12-12</th>\n",
              "      <td>0.128348</td>\n",
              "      <td>0.128906</td>\n",
              "      <td>0.128348</td>\n",
              "      <td>0.128348</td>\n",
              "      <td>0.099722</td>\n",
              "      <td>469033600</td>\n",
              "    </tr>\n",
              "    <tr>\n",
              "      <th>1980-12-15</th>\n",
              "      <td>0.122210</td>\n",
              "      <td>0.122210</td>\n",
              "      <td>0.121652</td>\n",
              "      <td>0.121652</td>\n",
              "      <td>0.094519</td>\n",
              "      <td>175884800</td>\n",
              "    </tr>\n",
              "    <tr>\n",
              "      <th>1980-12-16</th>\n",
              "      <td>0.113281</td>\n",
              "      <td>0.113281</td>\n",
              "      <td>0.112723</td>\n",
              "      <td>0.112723</td>\n",
              "      <td>0.087582</td>\n",
              "      <td>105728000</td>\n",
              "    </tr>\n",
              "    <tr>\n",
              "      <th>1980-12-17</th>\n",
              "      <td>0.115513</td>\n",
              "      <td>0.116071</td>\n",
              "      <td>0.115513</td>\n",
              "      <td>0.115513</td>\n",
              "      <td>0.089749</td>\n",
              "      <td>86441600</td>\n",
              "    </tr>\n",
              "    <tr>\n",
              "      <th>1980-12-18</th>\n",
              "      <td>0.118862</td>\n",
              "      <td>0.119420</td>\n",
              "      <td>0.118862</td>\n",
              "      <td>0.118862</td>\n",
              "      <td>0.092351</td>\n",
              "      <td>73449600</td>\n",
              "    </tr>\n",
              "    <tr>\n",
              "      <th>...</th>\n",
              "      <td>...</td>\n",
              "      <td>...</td>\n",
              "      <td>...</td>\n",
              "      <td>...</td>\n",
              "      <td>...</td>\n",
              "      <td>...</td>\n",
              "    </tr>\n",
              "    <tr>\n",
              "      <th>2022-12-12</th>\n",
              "      <td>142.699997</td>\n",
              "      <td>144.500000</td>\n",
              "      <td>141.059998</td>\n",
              "      <td>144.490005</td>\n",
              "      <td>144.269730</td>\n",
              "      <td>70462700</td>\n",
              "    </tr>\n",
              "    <tr>\n",
              "      <th>2022-12-13</th>\n",
              "      <td>149.500000</td>\n",
              "      <td>149.970001</td>\n",
              "      <td>144.240005</td>\n",
              "      <td>145.470001</td>\n",
              "      <td>145.248230</td>\n",
              "      <td>93886200</td>\n",
              "    </tr>\n",
              "    <tr>\n",
              "      <th>2022-12-14</th>\n",
              "      <td>145.350006</td>\n",
              "      <td>146.660004</td>\n",
              "      <td>141.160004</td>\n",
              "      <td>143.210007</td>\n",
              "      <td>142.991684</td>\n",
              "      <td>82291200</td>\n",
              "    </tr>\n",
              "    <tr>\n",
              "      <th>2022-12-15</th>\n",
              "      <td>141.110001</td>\n",
              "      <td>141.800003</td>\n",
              "      <td>136.029999</td>\n",
              "      <td>136.500000</td>\n",
              "      <td>136.291901</td>\n",
              "      <td>98931900</td>\n",
              "    </tr>\n",
              "    <tr>\n",
              "      <th>2022-12-16</th>\n",
              "      <td>136.690002</td>\n",
              "      <td>137.649994</td>\n",
              "      <td>133.729996</td>\n",
              "      <td>134.509995</td>\n",
              "      <td>134.304932</td>\n",
              "      <td>160156900</td>\n",
              "    </tr>\n",
              "  </tbody>\n",
              "</table>\n",
              "<p>10594 rows × 6 columns</p>\n",
              "</div>\n",
              "      <button class=\"colab-df-convert\" onclick=\"convertToInteractive('df-6f309101-b53e-4701-a008-cab6f1862656')\"\n",
              "              title=\"Convert this dataframe to an interactive table.\"\n",
              "              style=\"display:none;\">\n",
              "        \n",
              "  <svg xmlns=\"http://www.w3.org/2000/svg\" height=\"24px\"viewBox=\"0 0 24 24\"\n",
              "       width=\"24px\">\n",
              "    <path d=\"M0 0h24v24H0V0z\" fill=\"none\"/>\n",
              "    <path d=\"M18.56 5.44l.94 2.06.94-2.06 2.06-.94-2.06-.94-.94-2.06-.94 2.06-2.06.94zm-11 1L8.5 8.5l.94-2.06 2.06-.94-2.06-.94L8.5 2.5l-.94 2.06-2.06.94zm10 10l.94 2.06.94-2.06 2.06-.94-2.06-.94-.94-2.06-.94 2.06-2.06.94z\"/><path d=\"M17.41 7.96l-1.37-1.37c-.4-.4-.92-.59-1.43-.59-.52 0-1.04.2-1.43.59L10.3 9.45l-7.72 7.72c-.78.78-.78 2.05 0 2.83L4 21.41c.39.39.9.59 1.41.59.51 0 1.02-.2 1.41-.59l7.78-7.78 2.81-2.81c.8-.78.8-2.07 0-2.86zM5.41 20L4 18.59l7.72-7.72 1.47 1.35L5.41 20z\"/>\n",
              "  </svg>\n",
              "      </button>\n",
              "      \n",
              "  <style>\n",
              "    .colab-df-container {\n",
              "      display:flex;\n",
              "      flex-wrap:wrap;\n",
              "      gap: 12px;\n",
              "    }\n",
              "\n",
              "    .colab-df-convert {\n",
              "      background-color: #E8F0FE;\n",
              "      border: none;\n",
              "      border-radius: 50%;\n",
              "      cursor: pointer;\n",
              "      display: none;\n",
              "      fill: #1967D2;\n",
              "      height: 32px;\n",
              "      padding: 0 0 0 0;\n",
              "      width: 32px;\n",
              "    }\n",
              "\n",
              "    .colab-df-convert:hover {\n",
              "      background-color: #E2EBFA;\n",
              "      box-shadow: 0px 1px 2px rgba(60, 64, 67, 0.3), 0px 1px 3px 1px rgba(60, 64, 67, 0.15);\n",
              "      fill: #174EA6;\n",
              "    }\n",
              "\n",
              "    [theme=dark] .colab-df-convert {\n",
              "      background-color: #3B4455;\n",
              "      fill: #D2E3FC;\n",
              "    }\n",
              "\n",
              "    [theme=dark] .colab-df-convert:hover {\n",
              "      background-color: #434B5C;\n",
              "      box-shadow: 0px 1px 3px 1px rgba(0, 0, 0, 0.15);\n",
              "      filter: drop-shadow(0px 1px 2px rgba(0, 0, 0, 0.3));\n",
              "      fill: #FFFFFF;\n",
              "    }\n",
              "  </style>\n",
              "\n",
              "      <script>\n",
              "        const buttonEl =\n",
              "          document.querySelector('#df-6f309101-b53e-4701-a008-cab6f1862656 button.colab-df-convert');\n",
              "        buttonEl.style.display =\n",
              "          google.colab.kernel.accessAllowed ? 'block' : 'none';\n",
              "\n",
              "        async function convertToInteractive(key) {\n",
              "          const element = document.querySelector('#df-6f309101-b53e-4701-a008-cab6f1862656');\n",
              "          const dataTable =\n",
              "            await google.colab.kernel.invokeFunction('convertToInteractive',\n",
              "                                                     [key], {});\n",
              "          if (!dataTable) return;\n",
              "\n",
              "          const docLinkHtml = 'Like what you see? Visit the ' +\n",
              "            '<a target=\"_blank\" href=https://colab.research.google.com/notebooks/data_table.ipynb>data table notebook</a>'\n",
              "            + ' to learn more about interactive tables.';\n",
              "          element.innerHTML = '';\n",
              "          dataTable['output_type'] = 'display_data';\n",
              "          await google.colab.output.renderOutput(dataTable, element);\n",
              "          const docLink = document.createElement('div');\n",
              "          docLink.innerHTML = docLinkHtml;\n",
              "          element.appendChild(docLink);\n",
              "        }\n",
              "      </script>\n",
              "    </div>\n",
              "  </div>\n",
              "  "
            ]
          },
          "metadata": {},
          "execution_count": 5
        }
      ],
      "source": [
        "import math\n",
        "import numpy as np\n",
        "import pandas as pd\n",
        "import pandas_datareader as web\n",
        "from pandas_datareader import data as pdr\n",
        "import yfinance as yfin\n",
        "from sklearn.preprocessing import MinMaxScaler\n",
        "from keras.layers import Dense, LSTM\n",
        "from keras.models import Sequential\n",
        "import matplotlib.pyplot as plt\n",
        "plt.style.use('fivethirtyeight')\n",
        "\n",
        "yfin.pdr_override()\n",
        "# spy = pdr.get_data_yahoo('SPY',start='2022-12-23',end='2022-10-24')\n",
        "# df = web.DataReader('GE', 'yahoo', start='2019-09-10', end='2019-10-09')\n",
        "# df = web.DataReader(name='AAPL', data_source = 'yahoo', start = '2012-01-01', end = '2019-12-17')\n",
        "df = pdr.get_data_yahoo('AAPL', start = '1980-12-12', end = '2022-12-17')\n",
        "df\n"
      ]
    },
    {
      "cell_type": "code",
      "execution_count": null,
      "metadata": {
        "colab": {
          "base_uri": "https://localhost:8080/"
        },
        "id": "Be_QRJ-eXK7s",
        "outputId": "deb41e16-f45e-4bbd-cabc-16380c65fd19"
      },
      "outputs": [
        {
          "output_type": "execute_result",
          "data": {
            "text/plain": [
              "(10594, 6)"
            ]
          },
          "metadata": {},
          "execution_count": 6
        }
      ],
      "source": [
        "df.shape"
      ]
    },
    {
      "cell_type": "code",
      "execution_count": null,
      "metadata": {
        "colab": {
          "base_uri": "https://localhost:8080/",
          "height": 575
        },
        "id": "hH60_-9f0XdD",
        "outputId": "32d93008-e6f0-4bba-e9fa-e2b1a2e53115"
      },
      "outputs": [
        {
          "output_type": "execute_result",
          "data": {
            "text/plain": [
              "<function matplotlib.pyplot.show(*args, **kw)>"
            ]
          },
          "metadata": {},
          "execution_count": 7
        },
        {
          "output_type": "display_data",
          "data": {
            "text/plain": [
              "<Figure size 1152x576 with 1 Axes>"
            ],
            "image/png": "[encoded data removed]"
          },
          "metadata": {}
        }
      ],
      "source": [
        "plt.figure(figsize = (16,8))\n",
        "plt.title('Close price history')\n",
        "plt.plot(df['Close'])\n",
        "plt.xlabel('Date', fontsize=18)\n",
        "plt.ylabel('Close price USD ($)', fontsize=18)\n",
        "plt.show"
      ]
    },
    {
      "cell_type": "code",
      "execution_count": null,
      "metadata": {
        "colab": {
          "base_uri": "https://localhost:8080/"
        },
        "id": "li2TMmm90esP",
        "outputId": "bb6697a1-7e97-48bb-f208-11b5cf5edd77"
      },
      "outputs": [
        {
          "output_type": "execute_result",
          "data": {
            "text/plain": [
              "array([[4.35483657e-04],\n",
              "       [3.98684577e-04],\n",
              "       [3.49613595e-04],\n",
              "       ...,\n",
              "       [7.86767429e-01],\n",
              "       [7.49891336e-01],\n",
              "       [7.38954889e-01]])"
            ]
          },
          "metadata": {},
          "execution_count": 8
        }
      ],
      "source": [
        "data=df.filter(['Close'])\n",
        "dataset = data.values\n",
        "training_data_len = math.ceil(len(dataset)*.8)\n",
        "training_data_len\n",
        "\n",
        "scaler = MinMaxScaler (feature_range=(0,1))\n",
        "scaler_data=scaler.fit_transform(dataset)\n",
        "\n",
        "scaler_data"
      ]
    },
    {
      "cell_type": "code",
      "execution_count": null,
      "metadata": {
        "colab": {
          "base_uri": "https://localhost:8080/"
        },
        "id": "3dNy7f5S1JJQ",
        "outputId": "9649462d-46f3-44dd-d31f-25d278b27f77"
      },
      "outputs": [
        {
          "output_type": "stream",
          "name": "stdout",
          "text": [
            "[array([0.00043548, 0.00039868, 0.00034961, 0.00036495, 0.00038335,\n",
            "       0.00042322, 0.00045695, 0.00048762, 0.00052749, 0.00060109,\n",
            "       0.00061336, 0.00059189, 0.00056736, 0.00057656, 0.00055816,\n",
            "       0.00052135, 0.00048762, 0.00047229, 0.00051215, 0.00050602,\n",
            "       0.00047842, 0.00048149, 0.00049682, 0.00049069, 0.00053669,\n",
            "       0.00051215, 0.00052749, 0.00053669, 0.00053362, 0.00052135,\n",
            "       0.00051522, 0.00049069, 0.00046309, 0.00042322, 0.00038335,\n",
            "       0.00040788, 0.00043242, 0.00043242, 0.00043548, 0.00039868,\n",
            "       0.00039868, 0.00037722, 0.00037108, 0.00035575, 0.00037108,\n",
            "       0.00039868, 0.00035881, 0.00032508, 0.00033428, 0.00031281,\n",
            "       0.00034961, 0.00035881, 0.00038029, 0.00038335, 0.00037415,\n",
            "       0.00036801, 0.00036495, 0.00035881, 0.00030975, 0.00028214])]\n",
            "[0.00026067687942511194]\n",
            "\n"
          ]
        }
      ],
      "source": [
        "train_data=scaler_data[0:training_data_len, :]\n",
        "x_train=[]\n",
        "y_train=[]\n",
        "\n",
        "for i in range(60, len(train_data)):\n",
        "    x_train.append(train_data[i-60:i,0])\n",
        "    y_train.append(train_data[i,0])\n",
        "    if i<=60:\n",
        "        print(x_train)\n",
        "        print(y_train)\n",
        "        print()\n",
        "\n",
        "x_train, y_train = np.array(x_train), np.array(y_train)"
      ]
    },
    {
      "cell_type": "code",
      "execution_count": null,
      "metadata": {
        "colab": {
          "base_uri": "https://localhost:8080/"
        },
        "id": "lh1tPGTZ0k4S",
        "outputId": "ef5c756c-67cd-4af9-fb8d-a213d30a5a8e"
      },
      "outputs": [
        {
          "output_type": "execute_result",
          "data": {
            "text/plain": [
              "(8416, 60, 1)"
            ]
          },
          "metadata": {},
          "execution_count": 10
        }
      ],
      "source": [
        "x_train=np.reshape(x_train, (x_train.shape[0], x_train.shape[1], 1))\n",
        "x_train.shape\n",
        "#x_train"
      ]
    },
    {
      "cell_type": "code",
      "execution_count": null,
      "metadata": {
        "id": "T-3RoFUfAZjn"
      },
      "outputs": [],
      "source": [
        "test_data = scaler_data [training_data_len-60:, :]\n",
        "\n",
        "x_test=[]\n",
        "y_test=dataset[training_data_len:, :]\n",
        "for i in range (60, len(test_data)):\n",
        "    x_test.append(test_data[i-60:i,0])"
      ]
    },
    {
      "cell_type": "code",
      "execution_count": null,
      "metadata": {
        "id": "KksrFxdIAcII"
      },
      "outputs": [],
      "source": [
        "x_test = np.array(x_test)\n",
        "\n",
        "x_test = np.reshape(x_test, (x_test.shape[0], x_test.shape[1], 1))"
      ]
    },
    {
      "cell_type": "markdown",
      "metadata": {
        "id": "AF_ezcgJ8F-9"
      },
      "source": []
    },
    {
      "cell_type": "markdown",
      "metadata": {
        "id": "ctgQL9UW54cb"
      },
      "source": [
        "# Model LSTM"
      ]
    },
    {
      "cell_type": "code",
      "execution_count": null,
      "metadata": {
        "id": "3r9VDROW1rgp"
      },
      "outputs": [],
      "source": [
        "model = Sequential()\n",
        "model.add(LSTM(50,return_sequences=True, input_shape=(x_train.shape[1],1)))\n",
        "model.add(LSTM(50,return_sequences=False))\n",
        "model.add(Dense(25))\n",
        "model.add(Dense(1,) )"
      ]
    },
    {
      "cell_type": "code",
      "execution_count": null,
      "metadata": {
        "id": "FXFctb1Z1yCt"
      },
      "outputs": [],
      "source": [
        "model.compile(optimizer='adam', loss='mse')"
      ]
    },
    {
      "cell_type": "code",
      "execution_count": null,
      "metadata": {
        "colab": {
          "base_uri": "https://localhost:8080/"
        },
        "id": "v7QuxNUc16p5",
        "outputId": "55e706c4-e0c2-4fe7-d0c5-20dc6f5434e2"
      },
      "outputs": [
        {
          "output_type": "stream",
          "name": "stdout",
          "text": [
            "Epoch 1/4\n",
            "8416/8416 [==============================] - 272s 32ms/step - loss: 2.1062e-05\n",
            "Epoch 2/4\n",
            "8416/8416 [==============================] - 277s 33ms/step - loss: 8.0445e-06\n",
            "Epoch 3/4\n",
            "8416/8416 [==============================] - 275s 33ms/step - loss: 6.1657e-06\n",
            "Epoch 4/4\n",
            "8416/8416 [==============================] - 281s 33ms/step - loss: 4.2879e-06\n"
          ]
        },
        {
          "output_type": "execute_result",
          "data": {
            "text/plain": [
              "<keras.callbacks.History at 0x7f9998de2460>"
            ]
          },
          "metadata": {},
          "execution_count": 15
        }
      ],
      "source": [
        "model.fit(x_train, y_train, batch_size=1, epochs=4)"
      ]
    },
    {
      "cell_type": "markdown",
      "metadata": {
        "id": "WSflG1hE6HOd"
      },
      "source": [
        "# TEST Model LSTM"
      ]
    },
    {
      "cell_type": "code",
      "execution_count": null,
      "metadata": {
        "colab": {
          "base_uri": "https://localhost:8080/"
        },
        "id": "bbcsmCMd2yPy",
        "outputId": "5b69f0e4-842e-4642-b7df-500bd4dbb34d"
      },
      "outputs": [
        {
          "output_type": "stream",
          "name": "stdout",
          "text": [
            "67/67 [==============================] - 2s 19ms/step\n",
            "[[0.12873495]\n",
            " [0.13154353]\n",
            " [0.13199179]\n",
            " ...\n",
            " [0.6329998 ]\n",
            " [0.62621385]\n",
            " [0.60234284]]\n",
            "(2118, 1)\n"
          ]
        }
      ],
      "source": [
        "predictions = model.predict(x_test)\n",
        "print(predictions)\n",
        "predictions = scaler.inverse_transform(predictions)\n",
        "print(predictions.shape)"
      ]
    },
    {
      "cell_type": "code",
      "execution_count": null,
      "metadata": {
        "colab": {
          "base_uri": "https://localhost:8080/"
        },
        "id": "M7YTiKLQ3PM7",
        "outputId": "bc4232cd-4311-448d-aea5-417eabdb16f7"
      },
      "outputs": [
        {
          "output_type": "execute_result",
          "data": {
            "text/plain": [
              "9.859014156294725"
            ]
          },
          "metadata": {},
          "execution_count": 17
        }
      ],
      "source": [
        "rmse = np.sqrt (np.mean(predictions - y_test)**2)\n",
        "rmse"
      ]
    },
    {
      "cell_type": "code",
      "execution_count": null,
      "metadata": {
        "colab": {
          "base_uri": "https://localhost:8080/",
          "height": 640
        },
        "id": "q69ObDQJ3dNt",
        "outputId": "9a89671e-7194-49c9-f468-7f1c68fa2279"
      },
      "outputs": [
        {
          "output_type": "stream",
          "name": "stderr",
          "text": [
            "<ipython-input-18-050a405d19b2>:3: SettingWithCopyWarning: \n",
            "A value is trying to be set on a copy of a slice from a DataFrame.\n",
            "Try using .loc[row_indexer,col_indexer] = value instead\n",
            "\n",
            "See the caveats in the documentation: https://pandas.pydata.org/pandas-docs/stable/user_guide/indexing.html#returning-a-view-versus-a-copy\n",
            "  valid['Predictions'] = predictions\n"
          ]
        },
        {
          "output_type": "display_data",
          "data": {
            "text/plain": [
              "<Figure size 1152x576 with 1 Axes>"
            ],
            "image/png": "[encoded data removed]"
          },
          "metadata": {}
        }
      ],
      "source": [
        "train = data[:training_data_len]\n",
        "valid = data[training_data_len:]\n",
        "valid['Predictions'] = predictions\n",
        "\n",
        "plt.figure(figsize=(16,8))\n",
        "plt.title(\"model\")\n",
        "plt.plot(train['Close'])\n",
        "plt.plot(valid[['Close', 'Predictions']])\n",
        "plt.show()"
      ]
    },
    {
      "cell_type": "markdown",
      "metadata": {
        "id": "1iTt7cDe6DWx"
      },
      "source": [
        "# Model CNN"
      ]
    },
    {
      "cell_type": "code",
      "execution_count": null,
      "metadata": {
        "id": "yRZ_pCKc7x0N"
      },
      "outputs": [],
      "source": [
        "from tensorflow.keras.models import Sequential, load_model\n",
        "from tensorflow.keras.layers import Dense, Dropout, Flatten\n",
        "from tensorflow.keras.layers import Conv1D, MaxPooling1D\n",
        "\n",
        "from tensorflow.keras.layers import Conv2D, MaxPool2D\n",
        "from tensorflow.keras import backend as K, callbacks\n",
        "from tensorflow.keras.callbacks import EarlyStopping\n",
        "from keras.layers import ConvLSTM2D\n",
        "import tensorflow as tf\n",
        "import tensorflow.keras as keras"
      ]
    },
    {
      "cell_type": "code",
      "execution_count": null,
      "metadata": {
        "colab": {
          "base_uri": "https://localhost:8080/"
        },
        "id": "kMS5AP-fX5cp",
        "outputId": "47d72bad-5673-411a-847e-14e25d253757"
      },
      "outputs": [
        {
          "output_type": "execute_result",
          "data": {
            "text/plain": [
              "(10594, 6)"
            ]
          },
          "metadata": {},
          "execution_count": 358
        }
      ],
      "source": [
        "df.shape # (10594, 6)\n",
        "# data2.shape = 10594-60 , 60, 1, 6, 1"
      ]
    },
    {
      "cell_type": "code",
      "execution_count": null,
      "metadata": {
        "id": "RsEaut-LGU68"
      },
      "outputs": [],
      "source": [
        "df_close = df.copy() # Тут вибираємо або одна колонка або багато"
      ]
    },
    {
      "cell_type": "code",
      "execution_count": null,
      "metadata": {
        "id": "rea5ERE6Jg3H"
      },
      "outputs": [],
      "source": [
        "filters = 20 #45 # 15\n",
        "kernel_size= (3,3) #(1,2)\n",
        "\n",
        "n_seq = 60\n",
        "n_features = 6 #df_close.shape[1] #6\n",
        "\n",
        "model2 = Sequential()\n",
        "# model2.add(Conv2D(kernel_size[0], (1, n_features), activation='relu', input_shape=(n_seq, n_features, 1)))\n",
        "\n",
        "model2.add(ConvLSTM2D(filters=filters, \n",
        "                      kernel_size=kernel_size, \n",
        "                      activation='relu', \n",
        "                      padding ='same', \n",
        "                      input_shape=(n_seq, 1, n_features, 1), \n",
        "                      return_sequences =True))\n",
        "model2.add(tf.keras.layers.BatchNormalization())\n",
        "\n",
        "model2.add(tf.keras.layers.ConvLSTM2D(filters=5, kernel_size=(3, 3), padding='same', return_sequences=True))\n",
        "model2.add(tf.keras.layers.BatchNormalization())\n",
        "\n",
        "model2.add(tf.keras.layers.ConvLSTM2D(filters=3, kernel_size=(3, 3), padding='same', return_sequences=False))\n",
        "model2.add(tf.keras.layers.BatchNormalization())\n",
        "\n",
        "model2.add(Flatten())\n",
        "#model2.add(tf.keras.layers.BatchNormalization())\n",
        "model2.add(Dense(60))\n",
        "model2.add(Dense(20))\n",
        "\n",
        "model2.add(Dense(1))"
      ]
    },
    {
      "cell_type": "code",
      "execution_count": null,
      "metadata": {
        "id": "gvnI7mW16zf0"
      },
      "outputs": [],
      "source": [
        "from keras.optimizers import Adam\n",
        "# optimizer= Adam (lr=0.001)\n",
        "model2.compile(optimizer='Adam', loss='mae')"
      ]
    },
    {
      "cell_type": "code",
      "execution_count": null,
      "metadata": {
        "colab": {
          "base_uri": "https://localhost:8080/"
        },
        "id": "PSODXZbTMd2d",
        "outputId": "25b3bcb7-f836-47ae-f4b1-709aa698a5eb"
      },
      "outputs": [
        {
          "output_type": "stream",
          "name": "stdout",
          "text": [
            "Model: \"sequential_39\"\n",
            "_________________________________________________________________\n",
            " Layer (type)                Output Shape              Param #   \n",
            "=================================================================\n",
            " conv_lstm2d_87 (ConvLSTM2D)  (None, 60, 1, 6, 20)     15200     \n",
            "                                                                 \n",
            " batch_normalization_88 (Bat  (None, 60, 1, 6, 20)     80        \n",
            " chNormalization)                                                \n",
            "                                                                 \n",
            " conv_lstm2d_88 (ConvLSTM2D)  (None, 60, 1, 6, 5)      4520      \n",
            "                                                                 \n",
            " batch_normalization_89 (Bat  (None, 60, 1, 6, 5)      20        \n",
            " chNormalization)                                                \n",
            "                                                                 \n",
            " conv_lstm2d_89 (ConvLSTM2D)  (None, 1, 6, 3)          876       \n",
            "                                                                 \n",
            " batch_normalization_90 (Bat  (None, 1, 6, 3)          12        \n",
            " chNormalization)                                                \n",
            "                                                                 \n",
            " flatten_29 (Flatten)        (None, 18)                0         \n",
            "                                                                 \n",
            " dense_81 (Dense)            (None, 60)                1140      \n",
            "                                                                 \n",
            " dense_82 (Dense)            (None, 20)                1220      \n",
            "                                                                 \n",
            " dense_83 (Dense)            (None, 1)                 21        \n",
            "                                                                 \n",
            "=================================================================\n",
            "Total params: 23,089\n",
            "Trainable params: 23,033\n",
            "Non-trainable params: 56\n",
            "_________________________________________________________________\n"
          ]
        }
      ],
      "source": [
        "model2.summary()"
      ]
    },
    {
      "cell_type": "code",
      "execution_count": null,
      "metadata": {
        "id": "2uKiPkPWcYwL"
      },
      "outputs": [],
      "source": [
        "y_train2_raw = df_close[\"Close\"].copy()\n",
        "x_train2_raw = df_close.copy()"
      ]
    },
    {
      "cell_type": "code",
      "execution_count": null,
      "metadata": {
        "colab": {
          "base_uri": "https://localhost:8080/"
        },
        "id": "EfkQk3moD--s",
        "outputId": "f9505442-a494-4e79-c1a8-110cf3c36919"
      },
      "outputs": [
        {
          "output_type": "execute_result",
          "data": {
            "text/plain": [
              "(10594, 6)"
            ]
          },
          "metadata": {},
          "execution_count": 364
        }
      ],
      "source": [
        "x_train2_raw.shape"
      ]
    },
    {
      "cell_type": "code",
      "execution_count": null,
      "metadata": {
        "id": "bXH5OFxV9jpu"
      },
      "outputs": [],
      "source": [
        "def cnn_data_sequence_separately(data, target, seque_len):\n",
        "    tottal_data = []\n",
        "    tottal_target = []\n",
        "    for index in range(0, len(data) - seque_len + 1):\n",
        "        tottal_data.append(data[index: index + seque_len])\n",
        "        tottal_target.append(target[index + seque_len - 1])\n",
        "    return np.array(tottal_data), np.array(tottal_target)\n",
        "def cnn_data_sequence(data_warehouse, seq_len):\n",
        "    tottal_train_data, tottal_train_target = cnn_data_sequence_separately(data_warehouse[0], data_warehouse[1], seq_len)\n",
        "    tottal_train_data = tottal_train_data.reshape(tottal_train_data.shape[0], tottal_train_data.shape[1],\n",
        "                                                  1, \n",
        "                                                  tottal_train_data.shape[2],  # скільки колонок таке тут число\n",
        "                                                  1)\n",
        "    return tottal_train_data , tottal_train_target\n",
        "x_all_2, y_all_2 = cnn_data_sequence([x_train2_raw, y_train2_raw], n_seq)\n",
        "\n"
      ]
    },
    {
      "cell_type": "code",
      "execution_count": null,
      "metadata": {
        "id": "GFb-7yKPUjYP"
      },
      "outputs": [],
      "source": [
        "persent = 0.8\n",
        "lens = len(x_all_2)\n",
        "x_train_2, y_train_2, x_test_2, y_test_2 = x_all_2[:int(lens*persent)], y_all_2[:int(lens*persent)], x_all_2[int(lens*persent):], y_all_2[int(lens*persent):]"
      ]
    },
    {
      "cell_type": "code",
      "execution_count": null,
      "metadata": {
        "colab": {
          "base_uri": "https://localhost:8080/"
        },
        "id": "AdHcjvlveZpO",
        "outputId": "33ed62a2-7799-4676-d060-b699117d53d1"
      },
      "outputs": [
        {
          "output_type": "execute_result",
          "data": {
            "text/plain": [
              "((8428, 60, 1, 6, 1), (8428,), (2107, 60, 1, 6, 1), (2107,))"
            ]
          },
          "metadata": {},
          "execution_count": 367
        }
      ],
      "source": [
        "x_train_2.shape, y_train_2.shape, x_test_2.shape, y_test_2.shape"
      ]
    },
    {
      "cell_type": "code",
      "execution_count": null,
      "metadata": {
        "colab": {
          "base_uri": "https://localhost:8080/"
        },
        "id": "Yt1_rR079O-S",
        "outputId": "03832108-4d71-45bb-be1f-d2d7d779c931"
      },
      "outputs": [
        {
          "output_type": "stream",
          "name": "stdout",
          "text": [
            "169/169 [==============================] - 112s 663ms/step - loss: 2.5507\n"
          ]
        },
        {
          "output_type": "execute_result",
          "data": {
            "text/plain": [
              "<keras.callbacks.History at 0x7f021b57b6a0>"
            ]
          },
          "metadata": {},
          "execution_count": 372
        }
      ],
      "source": [
        "\n",
        "# model2.fit(x_train_2, y_train_2, batch_size=50, epochs=1)\n",
        "early_stopping = EarlyStopping(monitor='loss', patience=10, restore_best_weights=True)\n",
        "\n",
        "model2.fit(x_train_2, y_train_2, batch_size=50, epochs=1, \n",
        "                    # validation_data=(X_val, y_val), \n",
        "                    callbacks=[early_stopping])"
      ]
    },
    {
      "cell_type": "markdown",
      "metadata": {
        "id": "85f3HDDB7VxC"
      },
      "source": [
        "# Test CNN MODEL"
      ]
    },
    {
      "cell_type": "code",
      "execution_count": null,
      "metadata": {
        "colab": {
          "base_uri": "https://localhost:8080/"
        },
        "id": "yjuE5aSFLLg0",
        "outputId": "d8397838-7a6c-448a-b404-a24d404941f0"
      },
      "outputs": [
        {
          "output_type": "stream",
          "name": "stdout",
          "text": [
            "66/66 [==============================] - 9s 139ms/step\n",
            "**********************\n"
          ]
        }
      ],
      "source": [
        "predictions2 = model2.predict(x_test_2)\n",
        "# predictions2.shape\n",
        "print(\"**********************\")\n",
        "# print(predictions2)"
      ]
    },
    {
      "cell_type": "code",
      "execution_count": null,
      "metadata": {
        "colab": {
          "base_uri": "https://localhost:8080/"
        },
        "id": "Hx2PRKP87fYh",
        "outputId": "5ed710eb-f261-4f6b-ca93-568c47055884"
      },
      "outputs": [
        {
          "output_type": "stream",
          "name": "stdout",
          "text": [
            "(2107, 1)\n",
            "***************invers***********\n",
            "[[49.442867]\n",
            " [20.718355]\n",
            " [48.185436]\n",
            " ...\n",
            " [58.751102]\n",
            " [52.263252]\n",
            " [42.75801 ]]\n"
          ]
        }
      ],
      "source": [
        "predictions2 = scaler.inverse_transform(predictions2)\n",
        "print(predictions2.shape)\n",
        "print(\"***************invers***********\")\n",
        "print(predictions2)"
      ]
    },
    {
      "cell_type": "code",
      "execution_count": null,
      "metadata": {
        "colab": {
          "base_uri": "https://localhost:8080/"
        },
        "id": "ESz4qx-D7hs0",
        "outputId": "ec006ce8-d4c8-4a36-d129-bc458455d59c"
      },
      "outputs": [
        {
          "output_type": "stream",
          "name": "stdout",
          "text": [
            "************y_test**************\n",
            "[[ 24.29750061]\n",
            " [ 24.25749969]\n",
            " [ 24.41749954]\n",
            " ...\n",
            " [143.21000671]\n",
            " [136.5       ]\n",
            " [134.50999451]]\n",
            "*********test***********\n",
            "***************rmse***********\n",
            "53.870111918655255\n",
            "***************mae************\n",
            "41.062400551702844\n"
          ]
        }
      ],
      "source": [
        "print (\"************y_test**************\")\n",
        "print (y_test)\n",
        "test = np.reshape (y_test_2, (y_test_2.shape[0])) # (5,25284)\n",
        "print (\"*********test***********\")\n",
        "\n",
        "print(\"***************rmse***********\")\n",
        "rmse = np.sqrt ((np.mean((predictions2 - y_test_2)**2)))\n",
        "print (rmse)\n",
        "print(\"***************mae************\")\n",
        "mae = np.mean(np.fabs(predictions2-y_test_2))\n",
        "print(mae)"
      ]
    },
    {
      "cell_type": "markdown",
      "metadata": {
        "id": "ZsZrZ_dVEIz5"
      },
      "source": [
        "# result"
      ]
    },
    {
      "cell_type": "code",
      "execution_count": null,
      "metadata": {
        "colab": {
          "base_uri": "https://localhost:8080/",
          "height": 640
        },
        "id": "q7oijwy_7kuC",
        "outputId": "663ffde8-a4dc-462f-d313-1958688df3ba"
      },
      "outputs": [
        {
          "output_type": "stream",
          "name": "stderr",
          "text": [
            "<ipython-input-376-1ea7d0ca1a42>:3: SettingWithCopyWarning: \n",
            "A value is trying to be set on a copy of a slice from a DataFrame.\n",
            "Try using .loc[row_indexer,col_indexer] = value instead\n",
            "\n",
            "See the caveats in the documentation: https://pandas.pydata.org/pandas-docs/stable/user_guide/indexing.html#returning-a-view-versus-a-copy\n",
            "  valid['Predictions'] = predictions2\n"
          ]
        },
        {
          "output_type": "display_data",
          "data": {
            "text/plain": [
              "<Figure size 1152x576 with 1 Axes>"
            ],
            "image/png": "[encoded data removed]"
          },
          "metadata": {}
        }
      ],
      "source": [
        "train = data[:training_data_len]\n",
        "valid = data[training_data_len+11:]\n",
        "valid['Predictions'] = predictions2\n",
        "\n",
        "plt.figure(figsize=(16,8))\n",
        "plt.title(\"model\")\n",
        "plt.plot(train['Close'])\n",
        "plt.plot(valid[['Close', 'Predictions']])\n",
        "plt.show()"
      ]
    },
    {
      "cell_type": "code",
      "execution_count": null,
      "metadata": {
        "colab": {
          "base_uri": "https://localhost:8080/",
          "height": 455
        },
        "id": "EAj7XCKFB0Ir",
        "outputId": "d35d4b7d-aa0c-4501-8d3d-84408bec2077"
      },
      "outputs": [
        {
          "output_type": "execute_result",
          "data": {
            "text/plain": [
              "                 Close  Predictions\n",
              "Date                               \n",
              "2014-08-07   23.620001   143.197083\n",
              "2014-08-08   23.684999   167.565659\n",
              "2014-08-11   23.997499    92.829704\n",
              "2014-08-12   23.992500    94.883629\n",
              "2014-08-13   24.309999   114.770119\n",
              "...                ...          ...\n",
              "2022-12-12  144.490005    42.296143\n",
              "2022-12-13  145.470001    39.808937\n",
              "2022-12-14  143.210007    50.823917\n",
              "2022-12-15  136.500000    18.948990\n",
              "2022-12-16  134.509995    42.871750\n",
              "\n",
              "[2107 rows x 2 columns]"
            ],
            "text/html": [
              "\n",
              "  <div id=\"df-a9aa9f48-718a-4c71-a3c9-e2ca62758ec8\">\n",
              "    <div class=\"colab-df-container\">\n",
              "      <div>\n",
              "<style scoped>\n",
              "    .dataframe tbody tr th:only-of-type {\n",
              "        vertical-align: middle;\n",
              "    }\n",
              "\n",
              "    .dataframe tbody tr th {\n",
              "        vertical-align: top;\n",
              "    }\n",
              "\n",
              "    .dataframe thead th {\n",
              "        text-align: right;\n",
              "    }\n",
              "</style>\n",
              "<table border=\"1\" class=\"dataframe\">\n",
              "  <thead>\n",
              "    <tr style=\"text-align: right;\">\n",
              "      <th></th>\n",
              "      <th>Close</th>\n",
              "      <th>Predictions</th>\n",
              "    </tr>\n",
              "    <tr>\n",
              "      <th>Date</th>\n",
              "      <th></th>\n",
              "      <th></th>\n",
              "    </tr>\n",
              "  </thead>\n",
              "  <tbody>\n",
              "    <tr>\n",
              "      <th>2014-08-07</th>\n",
              "      <td>23.620001</td>\n",
              "      <td>143.197083</td>\n",
              "    </tr>\n",
              "    <tr>\n",
              "      <th>2014-08-08</th>\n",
              "      <td>23.684999</td>\n",
              "      <td>167.565659</td>\n",
              "    </tr>\n",
              "    <tr>\n",
              "      <th>2014-08-11</th>\n",
              "      <td>23.997499</td>\n",
              "      <td>92.829704</td>\n",
              "    </tr>\n",
              "    <tr>\n",
              "      <th>2014-08-12</th>\n",
              "      <td>23.992500</td>\n",
              "      <td>94.883629</td>\n",
              "    </tr>\n",
              "    <tr>\n",
              "      <th>2014-08-13</th>\n",
              "      <td>24.309999</td>\n",
              "      <td>114.770119</td>\n",
              "    </tr>\n",
              "    <tr>\n",
              "      <th>...</th>\n",
              "      <td>...</td>\n",
              "      <td>...</td>\n",
              "    </tr>\n",
              "    <tr>\n",
              "      <th>2022-12-12</th>\n",
              "      <td>144.490005</td>\n",
              "      <td>42.296143</td>\n",
              "    </tr>\n",
              "    <tr>\n",
              "      <th>2022-12-13</th>\n",
              "      <td>145.470001</td>\n",
              "      <td>39.808937</td>\n",
              "    </tr>\n",
              "    <tr>\n",
              "      <th>2022-12-14</th>\n",
              "      <td>143.210007</td>\n",
              "      <td>50.823917</td>\n",
              "    </tr>\n",
              "    <tr>\n",
              "      <th>2022-12-15</th>\n",
              "      <td>136.500000</td>\n",
              "      <td>18.948990</td>\n",
              "    </tr>\n",
              "    <tr>\n",
              "      <th>2022-12-16</th>\n",
              "      <td>134.509995</td>\n",
              "      <td>42.871750</td>\n",
              "    </tr>\n",
              "  </tbody>\n",
              "</table>\n",
              "<p>2107 rows × 2 columns</p>\n",
              "</div>\n",
              "      <button class=\"colab-df-convert\" onclick=\"convertToInteractive('df-a9aa9f48-718a-4c71-a3c9-e2ca62758ec8')\"\n",
              "              title=\"Convert this dataframe to an interactive table.\"\n",
              "              style=\"display:none;\">\n",
              "        \n",
              "  <svg xmlns=\"http://www.w3.org/2000/svg\" height=\"24px\"viewBox=\"0 0 24 24\"\n",
              "       width=\"24px\">\n",
              "    <path d=\"M0 0h24v24H0V0z\" fill=\"none\"/>\n",
              "    <path d=\"M18.56 5.44l.94 2.06.94-2.06 2.06-.94-2.06-.94-.94-2.06-.94 2.06-2.06.94zm-11 1L8.5 8.5l.94-2.06 2.06-.94-2.06-.94L8.5 2.5l-.94 2.06-2.06.94zm10 10l.94 2.06.94-2.06 2.06-.94-2.06-.94-.94-2.06-.94 2.06-2.06.94z\"/><path d=\"M17.41 7.96l-1.37-1.37c-.4-.4-.92-.59-1.43-.59-.52 0-1.04.2-1.43.59L10.3 9.45l-7.72 7.72c-.78.78-.78 2.05 0 2.83L4 21.41c.39.39.9.59 1.41.59.51 0 1.02-.2 1.41-.59l7.78-7.78 2.81-2.81c.8-.78.8-2.07 0-2.86zM5.41 20L4 18.59l7.72-7.72 1.47 1.35L5.41 20z\"/>\n",
              "  </svg>\n",
              "      </button>\n",
              "      \n",
              "  <style>\n",
              "    .colab-df-container {\n",
              "      display:flex;\n",
              "      flex-wrap:wrap;\n",
              "      gap: 12px;\n",
              "    }\n",
              "\n",
              "    .colab-df-convert {\n",
              "      background-color: #E8F0FE;\n",
              "      border: none;\n",
              "      border-radius: 50%;\n",
              "      cursor: pointer;\n",
              "      display: none;\n",
              "      fill: #1967D2;\n",
              "      height: 32px;\n",
              "      padding: 0 0 0 0;\n",
              "      width: 32px;\n",
              "    }\n",
              "\n",
              "    .colab-df-convert:hover {\n",
              "      background-color: #E2EBFA;\n",
              "      box-shadow: 0px 1px 2px rgba(60, 64, 67, 0.3), 0px 1px 3px 1px rgba(60, 64, 67, 0.15);\n",
              "      fill: #174EA6;\n",
              "    }\n",
              "\n",
              "    [theme=dark] .colab-df-convert {\n",
              "      background-color: #3B4455;\n",
              "      fill: #D2E3FC;\n",
              "    }\n",
              "\n",
              "    [theme=dark] .colab-df-convert:hover {\n",
              "      background-color: #434B5C;\n",
              "      box-shadow: 0px 1px 3px 1px rgba(0, 0, 0, 0.15);\n",
              "      filter: drop-shadow(0px 1px 2px rgba(0, 0, 0, 0.3));\n",
              "      fill: #FFFFFF;\n",
              "    }\n",
              "  </style>\n",
              "\n",
              "      <script>\n",
              "        const buttonEl =\n",
              "          document.querySelector('#df-a9aa9f48-718a-4c71-a3c9-e2ca62758ec8 button.colab-df-convert');\n",
              "        buttonEl.style.display =\n",
              "          google.colab.kernel.accessAllowed ? 'block' : 'none';\n",
              "\n",
              "        async function convertToInteractive(key) {\n",
              "          const element = document.querySelector('#df-a9aa9f48-718a-4c71-a3c9-e2ca62758ec8');\n",
              "          const dataTable =\n",
              "            await google.colab.kernel.invokeFunction('convertToInteractive',\n",
              "                                                     [key], {});\n",
              "          if (!dataTable) return;\n",
              "\n",
              "          const docLinkHtml = 'Like what you see? Visit the ' +\n",
              "            '<a target=\"_blank\" href=https://colab.research.google.com/notebooks/data_table.ipynb>data table notebook</a>'\n",
              "            + ' to learn more about interactive tables.';\n",
              "          element.innerHTML = '';\n",
              "          dataTable['output_type'] = 'display_data';\n",
              "          await google.colab.output.renderOutput(dataTable, element);\n",
              "          const docLink = document.createElement('div');\n",
              "          docLink.innerHTML = docLinkHtml;\n",
              "          element.appendChild(docLink);\n",
              "        }\n",
              "      </script>\n",
              "    </div>\n",
              "  </div>\n",
              "  "
            ]
          },
          "metadata": {},
          "execution_count": 183
        }
      ],
      "source": [
        "valid"
      ]
    }
  ],
  "metadata": {
    "colab": {
      "collapsed_sections": [
        "ml1y8kLe6O08",
        "ctgQL9UW54cb",
        "WSflG1hE6HOd",
        "wn2z5x7XJZYk"
      ],
      "provenance": [],
      "include_colab_link": true
    },
    "kernelspec": {
      "display_name": "Python 3",
      "name": "python3"
    },
    "language_info": {
      "name": "python"
    }
  },
  "nbformat": 4,
  "nbformat_minor": 0
}